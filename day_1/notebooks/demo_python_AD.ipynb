{
  "nbformat": 4,
  "nbformat_minor": 0,
  "metadata": {
    "colab": {
      "provenance": [],
      "authorship_tag": "ABX9TyPkaRRvUa/qje8N7ydn2Xay",
      "include_colab_link": true
    },
    "kernelspec": {
      "name": "python3",
      "display_name": "Python 3"
    },
    "language_info": {
      "name": "python"
    }
  },
  "cells": [
    {
      "cell_type": "markdown",
      "metadata": {
        "id": "view-in-github",
        "colab_type": "text"
      },
      "source": [
        "<a href=\"https://colab.research.google.com/github/TobiBu/graddays/blob/main/day_1/notebooks/demo_python_AD.ipynb\" target=\"_parent\"><img src=\"https://colab.research.google.com/assets/colab-badge.svg\" alt=\"Open In Colab\"/></a>"
      ]
    },
    {
      "cell_type": "code",
      "execution_count": null,
      "metadata": {
        "id": "PsJe2MtdVfg8"
      },
      "outputs": [],
      "source": []
    },
    {
      "cell_type": "markdown",
      "source": [
        "# Examples of AD in Python"
      ],
      "metadata": {
        "id": "LyPjsbLiZO43"
      }
    },
    {
      "cell_type": "markdown",
      "source": [
        "Here we show examples of AD in comparison to symbolic differentiation in pytorch, tensorflow and jax"
      ],
      "metadata": {
        "id": "sFrBBAvwZVIZ"
      }
    },
    {
      "cell_type": "code",
      "source": [
        "import sympy\n",
        "import numpy as np\n",
        "import matplotlib.pyplot as plt\n",
        "import torch\n",
        "import tensorflow as tf\n",
        "import jax"
      ],
      "metadata": {
        "id": "qflbkd4VZUdQ"
      },
      "execution_count": null,
      "outputs": []
    },
    {
      "cell_type": "markdown",
      "source": [
        "Let's start with the following equation:\n",
        "# $$f(x) = \\sin(2x) + x^2$$"
      ],
      "metadata": {
        "id": "ye6KkI2DaVIy"
      }
    },
    {
      "cell_type": "markdown",
      "source": [
        "We first try out symbolic differentiation with sympy"
      ],
      "metadata": {
        "id": "AfQ57Jlaa_OB"
      }
    },
    {
      "cell_type": "code",
      "source": [
        "# define symbols\n",
        "x = sympy.symbols('x')\n",
        "\n",
        "# define function\n",
        "def f(x):\n",
        "    return sympy.sin(2*x) + x**2\n",
        "f(x)"
      ],
      "metadata": {
        "colab": {
          "base_uri": "https://localhost:8080/",
          "height": 59
        },
        "id": "4y8WP2CJaQyX",
        "outputId": "85131cd5-089a-4bbd-b26a-ab9af28c5e2b"
      },
      "execution_count": null,
      "outputs": [
        {
          "output_type": "execute_result",
          "data": {
            "text/plain": [
              "x**2 + sin(2*x)"
            ],
            "text/latex": "$\\displaystyle x^{2} + \\sin{\\left(2 x \\right)}$"
          },
          "metadata": {},
          "execution_count": 2
        }
      ]
    },
    {
      "cell_type": "code",
      "source": [
        "# compute derivative\n",
        "df = sympy.diff(f(x), x)\n",
        "df"
      ],
      "metadata": {
        "colab": {
          "base_uri": "https://localhost:8080/",
          "height": 59
        },
        "id": "dM488OZiaZ0u",
        "outputId": "6816c1dc-6cb0-4b1f-951d-0ffd992b1527"
      },
      "execution_count": null,
      "outputs": [
        {
          "output_type": "execute_result",
          "data": {
            "text/plain": [
              "2*x + 2*cos(2*x)"
            ],
            "text/latex": "$\\displaystyle 2 x + 2 \\cos{\\left(2 x \\right)}$"
          },
          "metadata": {},
          "execution_count": 3
        }
      ]
    },
    {
      "cell_type": "code",
      "source": [
        "# evaluate derivative at x=2\n",
        "df.subs(x, 2)"
      ],
      "metadata": {
        "colab": {
          "base_uri": "https://localhost:8080/",
          "height": 57
        },
        "id": "FWux5ZubamjC",
        "outputId": "627b0d4d-73f5-4c1b-92fb-05452d4c1486"
      },
      "execution_count": null,
      "outputs": [
        {
          "output_type": "execute_result",
          "data": {
            "text/plain": [
              "2*cos(4) + 4"
            ],
            "text/latex": "$\\displaystyle 2 \\cos{\\left(4 \\right)} + 4$"
          },
          "metadata": {},
          "execution_count": 4
        }
      ]
    },
    {
      "cell_type": "code",
      "source": [
        "# evaluate derivative at x=2\n",
        "df.subs(x, 2).evalf()"
      ],
      "metadata": {
        "colab": {
          "base_uri": "https://localhost:8080/",
          "height": 57
        },
        "id": "T7X67b3WapYN",
        "outputId": "1bb2c57f-a641-4c8a-9e95-756cd6b88ca4"
      },
      "execution_count": null,
      "outputs": [
        {
          "output_type": "execute_result",
          "data": {
            "text/plain": [
              "2.69271275827278"
            ],
            "text/latex": "$\\displaystyle 2.69271275827278$"
          },
          "metadata": {},
          "execution_count": 5
        }
      ]
    },
    {
      "cell_type": "markdown",
      "source": [
        "Exactly right! :)"
      ],
      "metadata": {
        "id": "i2FoT9Kpatiz"
      }
    },
    {
      "cell_type": "markdown",
      "source": [
        "What about more complex functions?"
      ],
      "metadata": {
        "id": "BczRhqqYawCr"
      }
    },
    {
      "cell_type": "code",
      "source": [
        "# define sigmoid function\n",
        "def sigmoid(x):\n",
        "    return 1 / (1 + sympy.exp(-x))\n",
        "sympy.diff(sigmoid(x), x)"
      ],
      "metadata": {
        "colab": {
          "base_uri": "https://localhost:8080/",
          "height": 80
        },
        "id": "RzzJnquYarEi",
        "outputId": "2e486274-e15a-4ac4-ec10-f2bef6b2aee2"
      },
      "execution_count": null,
      "outputs": [
        {
          "output_type": "execute_result",
          "data": {
            "text/plain": [
              "exp(-x)/(1 + exp(-x))**2"
            ],
            "text/latex": "$\\displaystyle \\frac{e^{- x}}{\\left(1 + e^{- x}\\right)^{2}}$"
          },
          "metadata": {},
          "execution_count": 6
        }
      ]
    },
    {
      "cell_type": "code",
      "source": [
        "sympy.diff(sigmoid(sigmoid(x)), x)"
      ],
      "metadata": {
        "colab": {
          "base_uri": "https://localhost:8080/",
          "height": 99
        },
        "id": "yTd2EtqUa8FT",
        "outputId": "42822959-73e5-4cb8-bdc2-f9f42ec9e3e6"
      },
      "execution_count": null,
      "outputs": [
        {
          "output_type": "execute_result",
          "data": {
            "text/plain": [
              "exp(-x)*exp(-1/(1 + exp(-x)))/((1 + exp(-x))**2*(1 + exp(-1/(1 + exp(-x))))**2)"
            ],
            "text/latex": "$\\displaystyle \\frac{e^{- x} e^{- \\frac{1}{1 + e^{- x}}}}{\\left(1 + e^{- x}\\right)^{2} \\left(1 + e^{- \\frac{1}{1 + e^{- x}}}\\right)^{2}}$"
          },
          "metadata": {},
          "execution_count": 7
        }
      ]
    },
    {
      "cell_type": "code",
      "source": [
        "sympy.diff(sigmoid(sigmoid(sigmoid(x))), x)"
      ],
      "metadata": {
        "colab": {
          "base_uri": "https://localhost:8080/",
          "height": 120
        },
        "id": "k8GzV7bpa9kL",
        "outputId": "f0f30458-52b3-4788-c01f-5a89e3d8907f"
      },
      "execution_count": null,
      "outputs": [
        {
          "output_type": "execute_result",
          "data": {
            "text/plain": [
              "exp(-x)*exp(-1/(1 + exp(-x)))*exp(-1/(1 + exp(-1/(1 + exp(-x)))))/((1 + exp(-x))**2*(1 + exp(-1/(1 + exp(-x))))**2*(1 + exp(-1/(1 + exp(-1/(1 + exp(-x))))))**2)"
            ],
            "text/latex": "$\\displaystyle \\frac{e^{- x} e^{- \\frac{1}{1 + e^{- x}}} e^{- \\frac{1}{1 + e^{- \\frac{1}{1 + e^{- x}}}}}}{\\left(1 + e^{- x}\\right)^{2} \\left(1 + e^{- \\frac{1}{1 + e^{- x}}}\\right)^{2} \\left(1 + e^{- \\frac{1}{1 + e^{- \\frac{1}{1 + e^{- x}}}}}\\right)^{2}}$"
          },
          "metadata": {},
          "execution_count": 8
        }
      ]
    },
    {
      "cell_type": "markdown",
      "source": [
        "Expressions swell! Slow! Inflexible!"
      ],
      "metadata": {
        "id": "Z07S0Dq7bHRJ"
      }
    },
    {
      "cell_type": "markdown",
      "source": [
        "Good if we want analytic solutions of well behaved functions. But...\n",
        "\n",
        "* lacks flexibility!\n",
        "* slow!\n",
        "* most of the time there is no need for closed form expressions!"
      ],
      "metadata": {
        "id": "ONGS4l5_bJxj"
      }
    },
    {
      "cell_type": "markdown",
      "source": [
        "# Frameworks for Differentiable Programming\n",
        "Building computational graphs and doing AD\n",
        "\n",
        "Examples: Tensorflow 1 and 2, Pytorch (Autograd), Jax, Flux (Zygote)\n",
        "\n",
        "\n",
        "All do this:\n",
        "* take source code of your program\n",
        "* **build computational graph** for automatic differentiation\n",
        "* **offload compute-heavy operations** to fast kernels in low level language\n",
        "\n",
        "\n",
        "All make different tradeoffs in how the computational graph is\n",
        "* constructed\n",
        "* represented\n",
        "* optimized"
      ],
      "metadata": {
        "id": "RMQd1Tu3bPeI"
      }
    },
    {
      "cell_type": "markdown",
      "source": [
        "# What's missing?"
      ],
      "metadata": {
        "id": "SOo6uktJbTo0"
      }
    },
    {
      "cell_type": "markdown",
      "source": [
        "Control flow!\n",
        "\n",
        "Tradeoffs appear in different approaches to shield AD from dynamic control flow."
      ],
      "metadata": {
        "id": "vuNSJ86abVXP"
      }
    },
    {
      "cell_type": "markdown",
      "source": [
        "Choose!\n",
        "* build a static graph which executes different subgraphs depending on the input\n",
        "* dynamically generate graph during execution"
      ],
      "metadata": {
        "id": "MFixi7mTbYcn"
      }
    },
    {
      "cell_type": "markdown",
      "source": [
        "# Dynamic graph generation for every forward operation\n",
        "PyTorch example"
      ],
      "metadata": {
        "id": "tQexRZuPbaMo"
      }
    },
    {
      "cell_type": "code",
      "source": [
        "x = torch.tensor(2.0, requires_grad=True)\n",
        "\n",
        "def f_torch(x):\n",
        "    print(\"calculating f(x)\")\n",
        "    return torch.sin(2*x) + x**2\n",
        "\n",
        "y = f_torch(x)\n",
        "y"
      ],
      "metadata": {
        "colab": {
          "base_uri": "https://localhost:8080/"
        },
        "id": "86opCjuJbFSe",
        "outputId": "816faaf2-7342-435c-c49c-f45fe4ddeaba"
      },
      "execution_count": null,
      "outputs": [
        {
          "output_type": "stream",
          "name": "stdout",
          "text": [
            "calculating f(x)\n"
          ]
        },
        {
          "output_type": "execute_result",
          "data": {
            "text/plain": [
              "tensor(3.2432, grad_fn=<AddBackward0>)"
            ]
          },
          "metadata": {},
          "execution_count": 9
        }
      ]
    },
    {
      "cell_type": "code",
      "source": [
        "y.backward()\n",
        "\n",
        "x.grad"
      ],
      "metadata": {
        "colab": {
          "base_uri": "https://localhost:8080/"
        },
        "id": "cC_I9967bcpf",
        "outputId": "dfabd986-820e-495c-bb20-659df742b51a"
      },
      "execution_count": null,
      "outputs": [
        {
          "output_type": "execute_result",
          "data": {
            "text/plain": [
              "tensor(2.6927)"
            ]
          },
          "metadata": {},
          "execution_count": 10
        }
      ]
    },
    {
      "cell_type": "markdown",
      "source": [
        "# Static graph generation before evaluation\n",
        "Tensorflow example"
      ],
      "metadata": {
        "id": "rFLCWyQNbgIz"
      }
    },
    {
      "cell_type": "code",
      "source": [
        "x = tf.Variable(2.0)\n",
        "\n",
        "@tf.function\n",
        "def f_tf(x):\n",
        "    print(\"Hello Python!\")                  # this will only be printed once\n",
        "    tf.print(\"Hello Tensorflow!\")\n",
        "    return tf.sin(2*x) + x**2\n",
        "\n",
        "with tf.GradientTape(persistent=True) as tape:  # record the gradients\n",
        "    tape.watch(x)\n",
        "    y = f_tf(x)\n",
        "\n",
        "dy = tape.gradient(y, x)\n",
        "print(dy)"
      ],
      "metadata": {
        "colab": {
          "base_uri": "https://localhost:8080/"
        },
        "id": "2P6X9uprbebd",
        "outputId": "73a9b6ee-0fbb-4991-99ea-aebd85804c39"
      },
      "execution_count": null,
      "outputs": [
        {
          "output_type": "stream",
          "name": "stdout",
          "text": [
            "Hello Python!\n",
            "Hello Tensorflow!\n",
            "tf.Tensor(2.6927128, shape=(), dtype=float32)\n"
          ]
        }
      ]
    },
    {
      "cell_type": "code",
      "source": [
        "f_tf(x)     # this will not print \"Hello Python!\" again"
      ],
      "metadata": {
        "colab": {
          "base_uri": "https://localhost:8080/"
        },
        "id": "iU9e3a-_bh10",
        "outputId": "476780bf-d0fc-4cc2-f080-bf3efc63b2da"
      },
      "execution_count": null,
      "outputs": [
        {
          "output_type": "stream",
          "name": "stdout",
          "text": [
            "Hello Tensorflow!\n"
          ]
        },
        {
          "output_type": "execute_result",
          "data": {
            "text/plain": [
              "<tf.Tensor: shape=(), dtype=float32, numpy=3.2431974>"
            ]
          },
          "metadata": {},
          "execution_count": 12
        }
      ]
    },
    {
      "cell_type": "markdown",
      "source": [
        "# Further optimize computation graph with Just-In-Time Compilation\n",
        "\n",
        "JAX example"
      ],
      "metadata": {
        "id": "ldDD-KSGcsU2"
      }
    },
    {
      "cell_type": "code",
      "source": [
        "x = 2.0                 # regular Python float\n",
        "def f_jax(x):\n",
        "    return jax.numpy.sin(2*x) + x**2\n",
        "\n",
        "jax.grad(f_jax)(x)"
      ],
      "metadata": {
        "colab": {
          "base_uri": "https://localhost:8080/"
        },
        "id": "1fCiv8-abuVU",
        "outputId": "a60ba190-b74c-4748-dd53-c18df26d2945"
      },
      "execution_count": null,
      "outputs": [
        {
          "output_type": "execute_result",
          "data": {
            "text/plain": [
              "Array(2.6927128, dtype=float32, weak_type=True)"
            ]
          },
          "metadata": {},
          "execution_count": 13
        }
      ]
    },
    {
      "cell_type": "code",
      "source": [
        "jax.make_jaxpr(f_jax)(x)"
      ],
      "metadata": {
        "colab": {
          "base_uri": "https://localhost:8080/"
        },
        "id": "-lgBgXqvczIE",
        "outputId": "758a7234-123a-4071-c4f0-59753409bdfd"
      },
      "execution_count": null,
      "outputs": [
        {
          "output_type": "execute_result",
          "data": {
            "text/plain": [
              "{ lambda ; a:f32[]. let\n",
              "    b:f32[] = mul 2.0 a\n",
              "    c:f32[] = sin b\n",
              "    d:f32[] = integer_pow[y=2] a\n",
              "    e:f32[] = add c d\n",
              "  in (e,) }"
            ]
          },
          "metadata": {},
          "execution_count": 14
        }
      ]
    },
    {
      "cell_type": "markdown",
      "source": [
        "Source code transformation as opposed to operator overloading"
      ],
      "metadata": {
        "id": "FfsbxH3oc4VE"
      }
    },
    {
      "cell_type": "markdown",
      "source": [
        "note: Translating the source to an Intermediate Representation (IR) like Jaxpr or XLA (= Accelerated Linear Algebra) allows for optimizations like operator fusion.\n",
        "\n",
        "Think of this as a domain specific compiling.\n",
        "\n",
        "Instead of transforming source code to build a comp graph, optimize and JIT compile it, we could use the language compiler."
      ],
      "metadata": {
        "id": "06EqReuUc6zx"
      }
    },
    {
      "cell_type": "markdown",
      "source": [
        "# Implementing a minimal automatic differentiation\n",
        "\n",
        "$$f(x) = \\sin(2x) + x^2$$\n",
        "\n",
        "Here is our program witout AD."
      ],
      "metadata": {
        "id": "uXNY9IPedMuS"
      }
    },
    {
      "cell_type": "code",
      "source": [
        "def mul_func(x1,x2):\n",
        "    return x1*x2\n",
        "\n",
        "def sum_func(x1,x2):\n",
        "    return x1+x2\n",
        "\n",
        "def sin_func(x):\n",
        "    return np.sin(x)\n",
        "\n",
        "def function(x):\n",
        "    two_x = mul_func(2,x)\n",
        "    sin_two_x = sin_func(two_x)\n",
        "    square_x = mul_func(x,x)\n",
        "    return sum_func(sin_two_x,square_x)\n",
        "\n",
        "print(function(2))"
      ],
      "metadata": {
        "colab": {
          "base_uri": "https://localhost:8080/"
        },
        "id": "IDuVr9e9c1XS",
        "outputId": "6e0aa595-0f6d-4caa-f811-a6b4a415b13f"
      },
      "execution_count": null,
      "outputs": [
        {
          "output_type": "stream",
          "name": "stdout",
          "text": [
            "3.2431975046920716\n"
          ]
        }
      ]
    },
    {
      "cell_type": "markdown",
      "source": [
        "For forward mode AD, we need to implement the Jacobian Vector Product (JVP) for each operation."
      ],
      "metadata": {
        "id": "p5FZpy3XdS2d"
      }
    },
    {
      "cell_type": "code",
      "source": [
        "def mul_jvp(x1,dx1,x2,dx2):\n",
        "    y  = mul_func(x1,x2)\n",
        "    dy = x1*dx2 + x2*dx1\n",
        "    return y, dy\n",
        "\n",
        "def sum_jvp(x1,dx1,x2,dx2):\n",
        "    return sum_func(x1,x2), dx1 + dx2\n",
        "\n",
        "def sin_jvp(x,dx):\n",
        "    return sin_func(x), np.cos(x)*dx"
      ],
      "metadata": {
        "id": "zdYaT-pPdPIk"
      },
      "execution_count": null,
      "outputs": []
    },
    {
      "cell_type": "code",
      "source": [
        "def function_jvp(x,dx):\n",
        "    two_x, two_dx = mul_jvp(2,0,x,dx)\n",
        "    sin_two_x, sin_two_dx = sin_jvp(two_x,two_dx)\n",
        "    square_x, square_dx = mul_jvp(x,dx,x,dx)\n",
        "    return sum_jvp(sin_two_x,sin_two_dx,square_x,square_dx)\n",
        "\n",
        "function_jvp(2,1)"
      ],
      "metadata": {
        "colab": {
          "base_uri": "https://localhost:8080/"
        },
        "id": "EbwIrPVFdVhm",
        "outputId": "d32283b0-c462-4d3c-9d17-28825434b413"
      },
      "execution_count": null,
      "outputs": [
        {
          "output_type": "execute_result",
          "data": {
            "text/plain": [
              "(3.2431975046920716, 2.6927127582727763)"
            ]
          },
          "metadata": {},
          "execution_count": 17
        }
      ]
    },
    {
      "cell_type": "markdown",
      "source": [
        "Exactly right, again! And so much faster!\n",
        "\n",
        "How about reverse mode AD?"
      ],
      "metadata": {
        "id": "e5_4vBduddHw"
      }
    },
    {
      "cell_type": "markdown",
      "source": [
        "For reverse mode AD, we need to **implement Vector Jacobian Products** for each of the operations ..."
      ],
      "metadata": {
        "id": "GPpxGcP1devY"
      }
    },
    {
      "cell_type": "code",
      "source": [
        "def mul_vjp(x1,x2,dx1,dx2,dout):\n",
        "    dx2 += dout * x1\n",
        "    dx1 += dout * x2\n",
        "    return dx1,dx2\n",
        "\n",
        "def sum_vjp(x1,x2,dx1,dx2,dout):\n",
        "    dx1 += dout * 1\n",
        "    dx2 += dout * 1\n",
        "    return dx1,dx2\n",
        "\n",
        "def sin_vjp(x,dx,dout):\n",
        "    dx += dout * np.cos(x)\n",
        "    return dx"
      ],
      "metadata": {
        "id": "1oByX9G5dXQI"
      },
      "execution_count": null,
      "outputs": []
    },
    {
      "cell_type": "markdown",
      "source": [
        "... and **pull back the gradients along the computational graph**."
      ],
      "metadata": {
        "id": "a6yNByVpdjmU"
      }
    },
    {
      "cell_type": "code",
      "source": [
        "def function_vjp(x,dy):\n",
        "\n",
        "    # run forward\n",
        "    two_x = mul_func(2,x)\n",
        "    sin_two_x = sin_func(two_x)\n",
        "    square_x = mul_func(x,x)\n",
        "    y = sum_func(sin_two_x,square_x)\n",
        "\n",
        "    # zero gradients\n",
        "    d_x = 0\n",
        "    d_two_x = 0\n",
        "    d_sin_two_x = 0\n",
        "    d_square_x = 0\n",
        "\n",
        "    # run backward\n",
        "    d_sin_two_x, d_square_x = sum_vjp(sin_two_x,square_x,d_sin_two_x,d_square_x,dy)\n",
        "    d_two_x = sin_vjp(two_x,d_two_x,d_sin_two_x)\n",
        "    _, d_x = mul_vjp(2,x,0,d_x,d_two_x)\n",
        "    d_x,_ = mul_vjp(x,x,d_x,d_x,d_square_x)\n",
        "    d_x,_ = mul_vjp(x,x,d_x,d_x,d_square_x)\n",
        "\n",
        "    return y, d_x\n",
        "\n",
        "function_vjp(2,1)"
      ],
      "metadata": {
        "colab": {
          "base_uri": "https://localhost:8080/"
        },
        "id": "DE7H1k44dgMK",
        "outputId": "402c12df-ccf5-4a7a-9287-39b1702a63b0"
      },
      "execution_count": null,
      "outputs": [
        {
          "output_type": "execute_result",
          "data": {
            "text/plain": [
              "(3.2431975046920716, 2.6927127582727763)"
            ]
          },
          "metadata": {},
          "execution_count": 20
        }
      ]
    },
    {
      "cell_type": "code",
      "source": [
        "xs = np.linspace(-5,5)\n",
        "plt.plot(xs, [function_vjp(x,1)[1] for x in xs], linewidth=10, color=\"blue\", label=\"$f'(x)$ from vjp\")\n",
        "plt.plot(xs, [function_jvp(x,1)[1] for x in xs], linewidth=7, color=\"yellow\", label=\"$f'(x)$ from jvp\")\n",
        "#plt.plot(xs, sympy.lambdify(x, df, 'numpy')(xs), linewidth=3, color=\"red\", label=\"$f'(x)$ from sympy\")\n",
        "plt.legend(); plt.tight_layout(); plt.title(\"Derivative of $f(x) = \\sin(2x) + x^2$\")"
      ],
      "metadata": {
        "colab": {
          "base_uri": "https://localhost:8080/",
          "height": 551
        },
        "id": "64bI4DsBdl4r",
        "outputId": "fb9e7a44-a2f0-45d3-ce39-d23c855f40ae"
      },
      "execution_count": null,
      "outputs": [
        {
          "output_type": "execute_result",
          "data": {
            "text/plain": [
              "Text(0.5, 1.0, 'Derivative of $f(x) = \\\\sin(2x) + x^2$')"
            ]
          },
          "metadata": {},
          "execution_count": 21
        },
        {
          "output_type": "display_data",
          "data": {
            "text/plain": [
              "<Figure size 640x480 with 1 Axes>"
            ],
            "image/png": "[encoded data removed]"
          },
          "metadata": {}
        }
      ]
    },
    {
      "cell_type": "code",
      "source": [],
      "metadata": {
        "id": "xJL8JQrsdn9Y"
      },
      "execution_count": null,
      "outputs": []
    }
  ]
}