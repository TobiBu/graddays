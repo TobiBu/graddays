{
  "cells": [
    {
      "cell_type": "markdown",
      "metadata": {
        "id": "view-in-github",
        "colab_type": "text"
      },
      "source": [
        "<a href=\"https://colab.research.google.com/github/TobiBu/graddays/blob/main/day_5/notebooks/wind_parameter_optimization.ipynb\" target=\"_parent\"><img src=\"https://colab.research.google.com/assets/colab-badge.svg\" alt=\"Open In Colab\"/></a>"
      ]
    },
    {
      "cell_type": "markdown",
      "metadata": {
        "id": "I-zm70rIfvZj"
      },
      "source": [
        "# Gradient Descent for Finding Stellar Wind Parameters"
      ]
    },
    {
      "cell_type": "markdown",
      "metadata": {
        "id": "aoV7cXRLfvZl"
      },
      "source": [
        "## Imports"
      ]
    },
    {
      "cell_type": "code",
      "execution_count": null,
      "metadata": {
        "colab": {
          "base_uri": "https://localhost:8080/"
        },
        "id": "-BwI9tHQfvZl",
        "outputId": "6017e8a5-567c-4112-eab5-31a559e1cf78"
      },
      "outputs": [
        {
          "output_type": "stream",
          "name": "stdout",
          "text": [
            "Collecting jf1uids\n",
            "  Downloading jf1uids-0.1.6-py3-none-any.whl.metadata (2.9 kB)\n",
            "Requirement already satisfied: astropy<7.0.0,>=6.0.0 in /usr/local/lib/python3.10/dist-packages (from jf1uids) (6.1.4)\n",
            "Collecting equinox<0.12.0,>=0.11.0 (from jf1uids)\n",
            "  Downloading equinox-0.11.7-py3-none-any.whl.metadata (18 kB)\n",
            "Requirement already satisfied: jax<0.5.0,>=0.4.0 in /usr/local/lib/python3.10/dist-packages (from jf1uids) (0.4.33)\n",
            "Requirement already satisfied: numpy>=1.0.0 in /usr/local/lib/python3.10/dist-packages (from jf1uids) (1.26.4)\n",
            "Requirement already satisfied: optax<0.3.0,>=0.2.0 in /usr/local/lib/python3.10/dist-packages (from jf1uids) (0.2.3)\n",
            "Requirement already satisfied: scipy<2.0.0,>=1.0.0 in /usr/local/lib/python3.10/dist-packages (from jf1uids) (1.13.1)\n",
            "Requirement already satisfied: pyerfa>=2.0.1.1 in /usr/local/lib/python3.10/dist-packages (from astropy<7.0.0,>=6.0.0->jf1uids) (2.0.1.4)\n",
            "Requirement already satisfied: astropy-iers-data>=0.2024.8.27.10.28.29 in /usr/local/lib/python3.10/dist-packages (from astropy<7.0.0,>=6.0.0->jf1uids) (0.2024.9.30.0.32.59)\n",
            "Requirement already satisfied: PyYAML>=3.13 in /usr/local/lib/python3.10/dist-packages (from astropy<7.0.0,>=6.0.0->jf1uids) (6.0.2)\n",
            "Requirement already satisfied: packaging>=19.0 in /usr/local/lib/python3.10/dist-packages (from astropy<7.0.0,>=6.0.0->jf1uids) (24.1)\n",
            "Collecting jaxtyping>=0.2.20 (from equinox<0.12.0,>=0.11.0->jf1uids)\n",
            "  Downloading jaxtyping-0.2.34-py3-none-any.whl.metadata (6.4 kB)\n",
            "Requirement already satisfied: typing-extensions>=4.5.0 in /usr/local/lib/python3.10/dist-packages (from equinox<0.12.0,>=0.11.0->jf1uids) (4.12.2)\n",
            "Requirement already satisfied: jaxlib<=0.4.33,>=0.4.33 in /usr/local/lib/python3.10/dist-packages (from jax<0.5.0,>=0.4.0->jf1uids) (0.4.33)\n",
            "Requirement already satisfied: ml-dtypes>=0.2.0 in /usr/local/lib/python3.10/dist-packages (from jax<0.5.0,>=0.4.0->jf1uids) (0.4.1)\n",
            "Requirement already satisfied: opt-einsum in /usr/local/lib/python3.10/dist-packages (from jax<0.5.0,>=0.4.0->jf1uids) (3.4.0)\n",
            "Requirement already satisfied: absl-py>=0.7.1 in /usr/local/lib/python3.10/dist-packages (from optax<0.3.0,>=0.2.0->jf1uids) (1.4.0)\n",
            "Requirement already satisfied: chex>=0.1.86 in /usr/local/lib/python3.10/dist-packages (from optax<0.3.0,>=0.2.0->jf1uids) (0.1.87)\n",
            "Requirement already satisfied: etils[epy] in /usr/local/lib/python3.10/dist-packages (from optax<0.3.0,>=0.2.0->jf1uids) (1.9.4)\n",
            "Requirement already satisfied: toolz>=0.9.0 in /usr/local/lib/python3.10/dist-packages (from chex>=0.1.86->optax<0.3.0,>=0.2.0->jf1uids) (0.12.1)\n",
            "Collecting typeguard==2.13.3 (from jaxtyping>=0.2.20->equinox<0.12.0,>=0.11.0->jf1uids)\n",
            "  Downloading typeguard-2.13.3-py3-none-any.whl.metadata (3.6 kB)\n",
            "Downloading jf1uids-0.1.6-py3-none-any.whl (20 kB)\n",
            "Downloading equinox-0.11.7-py3-none-any.whl (178 kB)\n",
            "\u001b[2K   \u001b[90m━━━━━━━━━━━━━━━━━━━━━━━━━━━━━━━━━━━━━━━━\u001b[0m \u001b[32m178.4/178.4 kB\u001b[0m \u001b[31m6.6 MB/s\u001b[0m eta \u001b[36m0:00:00\u001b[0m\n",
            "\u001b[?25hDownloading jaxtyping-0.2.34-py3-none-any.whl (42 kB)\n",
            "\u001b[2K   \u001b[90m━━━━━━━━━━━━━━━━━━━━━━━━━━━━━━━━━━━━━━━━\u001b[0m \u001b[32m42.4/42.4 kB\u001b[0m \u001b[31m1.6 MB/s\u001b[0m eta \u001b[36m0:00:00\u001b[0m\n",
            "\u001b[?25hDownloading typeguard-2.13.3-py3-none-any.whl (17 kB)\n",
            "Installing collected packages: typeguard, jaxtyping, equinox, jf1uids\n",
            "  Attempting uninstall: typeguard\n",
            "    Found existing installation: typeguard 4.3.0\n",
            "    Uninstalling typeguard-4.3.0:\n",
            "      Successfully uninstalled typeguard-4.3.0\n",
            "\u001b[31mERROR: pip's dependency resolver does not currently take into account all the packages that are installed. This behaviour is the source of the following dependency conflicts.\n",
            "inflect 7.4.0 requires typeguard>=4.0.1, but you have typeguard 2.13.3 which is incompatible.\u001b[0m\u001b[31m\n",
            "\u001b[0mSuccessfully installed equinox-0.11.7 jaxtyping-0.2.34 jf1uids-0.1.6 typeguard-2.13.3\n"
          ]
        }
      ],
      "source": [
        "# numerics\n",
        "import jax\n",
        "import jax.numpy as jnp\n",
        "import optax\n",
        "\n",
        "# 64-bit precision\n",
        "jax.config.update(\"jax_enable_x64\", True)\n",
        "\n",
        "# plotting\n",
        "import matplotlib.pyplot as plt\n",
        "from matplotlib.colors import LogNorm\n",
        "from mpl_toolkits.axes_grid1 import make_axes_locatable\n",
        "\n",
        "# fluids\n",
        "!pip install jf1uids\n",
        "from jf1uids import OPEN_BOUNDARY, REFLECTIVE_BOUNDARY\n",
        "from jf1uids import SPHERICAL\n",
        "from jf1uids.physics_modules.stellar_wind.stellar_wind import WindParams\n",
        "from jf1uids import strongest_shock_radius\n",
        "from jf1uids import SimulationConfig\n",
        "from jf1uids import get_helper_data\n",
        "from jf1uids import SimulationParams\n",
        "from jf1uids import time_integration\n",
        "from jf1uids import primitive_state\n",
        "\n",
        "# units\n",
        "from jf1uids import CodeUnits\n",
        "from astropy import units as u\n",
        "import astropy.constants as c"
      ]
    },
    {
      "cell_type": "markdown",
      "metadata": {
        "id": "e7XunznvfvZm"
      },
      "source": [
        "## Initiating the stellar wind simulation"
      ]
    },
    {
      "cell_type": "code",
      "execution_count": null,
      "metadata": {
        "colab": {
          "base_uri": "https://localhost:8080/"
        },
        "id": "YHVHn9MvfvZm",
        "outputId": "f0221b27-e343-4b36-eebf-7641f7ee55e5"
      },
      "outputs": [
        {
          "output_type": "stream",
          "name": "stdout",
          "text": [
            "👷 Setting up simulation...\n"
          ]
        }
      ],
      "source": [
        "from jf1uids.option_classes.simulation_config import BACKWARDS\n",
        "from jf1uids.physics_modules.stellar_wind.stellar_wind import WindConfig\n",
        "\n",
        "\n",
        "print(\"👷 Setting up simulation...\")\n",
        "\n",
        "# simulation settings\n",
        "gamma = 5/3\n",
        "\n",
        "# spatial domain\n",
        "geometry = SPHERICAL\n",
        "box_size = 1.0\n",
        "\n",
        "fast_instead_paper = True\n",
        "\n",
        "if fast_instead_paper:\n",
        "    # Lower resolution is faster\n",
        "    # especially as then we can also\n",
        "    # take larger timesteps\n",
        "\n",
        "    # setting for quick testing\n",
        "    num_cells = 101\n",
        "    # num_timesteps = 4000\n",
        "else:\n",
        "    # setting from the paper\n",
        "    num_cells = 401\n",
        "    # num_timesteps = 20000\n",
        "\n",
        "fixed_timestep = False\n",
        "\n",
        "differentiation_mode = BACKWARDS\n",
        "num_checkpoints = 1000\n",
        "\n",
        "# boundary condition\n",
        "left_boundary = REFLECTIVE_BOUNDARY\n",
        "right_boundary = OPEN_BOUNDARY\n",
        "\n",
        "# activate stellar wind\n",
        "stellar_wind = True\n",
        "\n",
        "# setup simulation config\n",
        "config = SimulationConfig(\n",
        "    geometry = geometry,\n",
        "    box_size = box_size,\n",
        "    num_cells = num_cells,\n",
        "    left_boundary = left_boundary,\n",
        "    right_boundary = right_boundary,\n",
        "    fixed_timestep = fixed_timestep,\n",
        "    differentiation_mode = differentiation_mode,\n",
        "    num_checkpoints = num_checkpoints,\n",
        "    # num_timesteps = num_timesteps,\n",
        "    wind_config = WindConfig(\n",
        "        stellar_wind = stellar_wind,\n",
        "        num_injection_cells = 10,\n",
        "    ),\n",
        ")\n",
        "\n",
        "helper_data = get_helper_data(config)"
      ]
    },
    {
      "cell_type": "markdown",
      "metadata": {
        "id": "-P0KcckOfvZn"
      },
      "source": [
        "## Setting the simulation parameters and initial state"
      ]
    },
    {
      "cell_type": "code",
      "execution_count": null,
      "metadata": {
        "id": "-HuQ9YjOfvZn"
      },
      "outputs": [],
      "source": [
        "# code units\n",
        "code_length = 3 * u.parsec\n",
        "code_mass = 1e-4 * u.M_sun\n",
        "code_velocity = 1 * u.km / u.s\n",
        "code_units = CodeUnits(code_length, code_mass, code_velocity)\n",
        "\n",
        "# time domain\n",
        "C_CFL = 0.8\n",
        "t_final = 2.5 * 1e4 * u.yr\n",
        "t_end = t_final.to(code_units.code_time).value\n",
        "dt_max = 0.1 * t_end # not so important if the timestep criterion is good\n",
        "\n",
        "params = SimulationParams(\n",
        "    C_cfl = C_CFL,\n",
        "    dt_max = dt_max,\n",
        "    gamma = gamma,\n",
        "    t_end = t_end\n",
        ")\n",
        "\n",
        "# homogeneous initial state\n",
        "rho_0 = 2 * c.m_p / u.cm**3\n",
        "p_0 = 3e4 * u.K / u.cm**3 * c.k_B\n",
        "\n",
        "rho_init = jnp.ones(num_cells) * rho_0.to(code_units.code_density).value\n",
        "u_init = jnp.zeros(num_cells)\n",
        "p_init = jnp.ones(num_cells) * p_0.to(code_units.code_pressure).value\n",
        "\n",
        "# get initial state\n",
        "initial_state = primitive_state(rho_init, u_init, p_init)"
      ]
    },
    {
      "cell_type": "markdown",
      "metadata": {
        "id": "4lSH6NpdfvZn"
      },
      "source": [
        "## Setting up a reference simulation"
      ]
    },
    {
      "cell_type": "code",
      "execution_count": null,
      "metadata": {
        "id": "p5pBuhYhfvZn"
      },
      "outputs": [],
      "source": [
        "sample_simulation = lambda velocity, mass_loss_rate: time_integration(initial_state, config, SimulationParams(\n",
        "    C_cfl=params.C_cfl,\n",
        "    dt_max=params.dt_max,\n",
        "    gamma=params.gamma,\n",
        "    t_end=params.t_end,\n",
        "    wind_params=WindParams(\n",
        "        wind_mass_loss_rate=mass_loss_rate,\n",
        "        wind_final_velocity=velocity\n",
        "    )\n",
        "), helper_data)\n",
        "\n",
        "# generate a reference simulation\n",
        "M_star = 40 * u.M_sun\n",
        "wind_final_velocity = 2000 * u.km / u.s\n",
        "wind_mass_loss_rate = 2.965e-3 / (1e6 * u.yr) * M_star\n",
        "\n",
        "reference_params = WindParams(\n",
        "    wind_mass_loss_rate = wind_mass_loss_rate.to(code_units.code_mass / code_units.code_time).value,\n",
        "    wind_final_velocity = wind_final_velocity.to(code_units.code_velocity).value\n",
        ")\n",
        "\n",
        "reference_simulation = sample_simulation(\n",
        "    reference_params.wind_final_velocity,\n",
        "    reference_params.wind_mass_loss_rate\n",
        ")\n",
        "\n",
        "reference_shock_radius = strongest_shock_radius(reference_simulation, helper_data, 10, 5)\n"
      ]
    },
    {
      "cell_type": "markdown",
      "metadata": {
        "id": "jNzCyGgUfvZn"
      },
      "source": [
        "## Losses"
      ]
    },
    {
      "cell_type": "code",
      "execution_count": null,
      "metadata": {
        "id": "YlBZtjnAfvZo"
      },
      "outputs": [],
      "source": [
        "def density_loss(vel_mass_loss):\n",
        "    velocity = vel_mass_loss[0]\n",
        "    mass_loss_rate = vel_mass_loss[1]\n",
        "    final_state = sample_simulation(velocity, mass_loss_rate)\n",
        "    return jnp.mean(jnp.abs(final_state[0] - reference_simulation[0]))\n",
        "\n",
        "def full_profile_loss(vel_mass_loss):\n",
        "    velocity = vel_mass_loss[0]\n",
        "    mass_loss_rate = vel_mass_loss[1]\n",
        "    final_state = sample_simulation(velocity, mass_loss_rate)\n",
        "    return jnp.sum(jnp.abs(final_state - reference_simulation))"
      ]
    },
    {
      "cell_type": "markdown",
      "metadata": {
        "id": "6D_dXso3fvZo"
      },
      "source": [
        "## Loss map"
      ]
    },
    {
      "cell_type": "code",
      "execution_count": null,
      "metadata": {
        "colab": {
          "background_save": true
        },
        "id": "_s62zMdhfvZo"
      },
      "outputs": [],
      "source": [
        "def get_loss_map(velocity_range, mass_loss_rate_range):\n",
        "    loss_map = jnp.zeros((len(velocity_range) * len(mass_loss_rate_range),))\n",
        "    vel_list = jnp.zeros((len(velocity_range) * len(mass_loss_rate_range),))\n",
        "    mass_list = jnp.zeros((len(velocity_range) * len(mass_loss_rate_range),))\n",
        "    ind = 0\n",
        "\n",
        "    for i, velocity in enumerate(velocity_range):\n",
        "        for j, mass_loss_rate in enumerate(mass_loss_rate_range):\n",
        "            loss_map = loss_map.at[ind].set(density_loss((velocity, mass_loss_rate)))\n",
        "            vel_list = vel_list.at[ind].set(velocity)\n",
        "            mass_list = mass_list.at[ind].set(mass_loss_rate)\n",
        "            ind += 1\n",
        "    return loss_map, vel_list, mass_list\n",
        "\n",
        "# generate a loss map\n",
        "mass_loss_rates = jnp.linspace(\n",
        "    (2.965e-3 / (1e6 * u.yr) * 15 * u.M_sun).to(code_units.code_mass / code_units.code_time).value,\n",
        "    (2.965e-3 / (1e6 * u.yr) * 70 * u.M_sun).to(code_units.code_mass / code_units.code_time).value,\n",
        "    40\n",
        ")\n",
        "\n",
        "velocities = jnp.linspace(\n",
        "    (200 * u.km / u.s).to(code_units.code_velocity).value,\n",
        "    (4000 * u.km / u.s).to(code_units.code_velocity).value,\n",
        "    40\n",
        ")\n",
        "\n",
        "loss_map, vel_list, mass_list = get_loss_map(velocities, mass_loss_rates)"
      ]
    },
    {
      "cell_type": "markdown",
      "metadata": {
        "id": "6778A4EQfvZo"
      },
      "source": [
        "## Optimization"
      ]
    },
    {
      "cell_type": "code",
      "execution_count": null,
      "metadata": {
        "colab": {
          "background_save": true
        },
        "id": "EL2a7GPafvZo"
      },
      "outputs": [],
      "source": [
        "# also implement gradient descent\n",
        "def gradient_descent_optimization(func, x_init, learning_rate=20, tol=0.5, max_iter=2000):\n",
        "    xlist = []\n",
        "    x = x_init\n",
        "    loss_list = []\n",
        "    xlist.append(x)\n",
        "\n",
        "    optimizer = optax.adam(learning_rate=learning_rate)\n",
        "    optimizer_state = optimizer.init(x)\n",
        "\n",
        "    for _ in range(max_iter):\n",
        "        # Compute the function value and its gradient\n",
        "        loss, f_grad = jax.value_and_grad(func)(x)\n",
        "        loss_list.append(loss)\n",
        "\n",
        "        # Update the parameter\n",
        "        updates, optimizer_state = optimizer.update(f_grad, optimizer_state)\n",
        "        x = optax.apply_updates(x, updates)\n",
        "        xlist.append(x)\n",
        "\n",
        "        # Check convergence\n",
        "        if jnp.linalg.norm(updates) < tol:\n",
        "            break\n",
        "\n",
        "    return x, xlist, loss_list"
      ]
    },
    {
      "cell_type": "markdown",
      "metadata": {
        "id": "f3inkk82fvZo"
      },
      "source": [
        "## Example loss paths"
      ]
    },
    {
      "cell_type": "code",
      "execution_count": null,
      "metadata": {
        "colab": {
          "background_save": true
        },
        "id": "pPE5Kl8PfvZo"
      },
      "outputs": [],
      "source": [
        "initial_guess1 = jnp.array([(1500 * u.km / u.s).to(code_units.code_velocity).value, (2.965e-3 / (1e6 * u.yr) * 30 * u.M_sun).to(code_units.code_mass / code_units.code_time).value])\n",
        "x1, xlist1, loss_list1 = gradient_descent_optimization(full_profile_loss, initial_guess1)"
      ]
    },
    {
      "cell_type": "code",
      "execution_count": null,
      "metadata": {
        "colab": {
          "background_save": true
        },
        "id": "4NPfSXIRfvZo"
      },
      "outputs": [],
      "source": [
        "initial_guess2 = jnp.array([(3500 * u.km / u.s).to(code_units.code_velocity).value, (2.965e-3 / (1e6 * u.yr) * 60 * u.M_sun).to(code_units.code_mass / code_units.code_time).value])\n",
        "x2, xlist2, loss_list2 = gradient_descent_optimization(full_profile_loss, initial_guess2)"
      ]
    },
    {
      "cell_type": "code",
      "execution_count": null,
      "metadata": {
        "id": "KcolRMtXfvZo"
      },
      "outputs": [],
      "source": [
        "initial_guess3 = jnp.array([(3300 * u.km / u.s).to(code_units.code_velocity).value, (2.965e-3 / (1e6 * u.yr) * 45 * u.M_sun).to(code_units.code_mass / code_units.code_time).value])\n",
        "x3, xlist3, loss_list3 = gradient_descent_optimization(full_profile_loss, initial_guess3)"
      ]
    },
    {
      "cell_type": "markdown",
      "metadata": {
        "id": "RMMz65edfvZo"
      },
      "source": [
        "## Loss map plot"
      ]
    },
    {
      "cell_type": "code",
      "execution_count": null,
      "metadata": {
        "id": "LhX-fllWfvZp"
      },
      "outputs": [],
      "source": [
        "fig, axs = plt.subplots(1, 2, figsize=(10, 5))\n",
        "\n",
        "divider = make_axes_locatable(axs[0])\n",
        "cax = divider.append_axes('right', size='5%', pad=0.05)\n",
        "norm = LogNorm(vmin=loss_map.min(), vmax=loss_map.max())\n",
        "mapper = plt.cm.ScalarMappable(norm=norm, cmap=plt.cm.viridis)\n",
        "plt.colorbar(mapper, cax=cax, orientation='vertical', label='primitive state loss')\n",
        "\n",
        "axs[0].scatter((vel_list * code_units.code_velocity).to(u.km / u.s).value, (mass_list * code_units.code_mass / code_units.code_time).to(2.965e-3 / (1e6 * u.yr) * u.M_sun).value, c=loss_map, cmap='viridis', norm=norm, s = 15, marker = \"s\")\n",
        "\n",
        "axs[0].set_xlabel('final wind velocity in km/s')\n",
        "axs[0].set_ylabel(r'mass of the star in M$_\\odot$')\n",
        "axs[0].set_title('loss landscape')\n",
        "\n",
        "# plot the loss function\n",
        "axs[1].plot(loss_list1, label='loss 1', color='blue')\n",
        "\n",
        "# plot the optimization path\n",
        "xlist1 = jnp.array(xlist1)\n",
        "axs[0].plot((xlist1[:, 0] * code_units.code_velocity).to(u.km / u.s).value, (xlist1[:, 1] * code_units.code_mass / code_units.code_time).to(2.965e-3 / (1e6 * u.yr) * u.M_sun).value, color='blue', label='optimization path 1')\n",
        "axs[0].scatter(\n",
        "    [(xlist1[0, 0] * code_units.code_velocity).to(u.km / u.s).value], [(xlist1[0, 1] * code_units.code_mass / code_units.code_time).to(2.965e-3 / (1e6 * u.yr) * u.M_sun).value],\n",
        "    c='blue', s = 40\n",
        ")\n",
        "\n",
        "# plot the optimization path\n",
        "xlist2 = jnp.array(xlist2)\n",
        "axs[0].plot((xlist2[:, 0] * code_units.code_velocity).to(u.km / u.s).value, (xlist2[:, 1] * code_units.code_mass / code_units.code_time).to(2.965e-3 / (1e6 * u.yr) * u.M_sun).value, color='purple', label='optimization path 2')\n",
        "\n",
        "axs[0].scatter(\n",
        "    [(xlist2[0, 0] * code_units.code_velocity).to(u.km / u.s).value], [(xlist2[0, 1] * code_units.code_mass / code_units.code_time).to(2.965e-3 / (1e6 * u.yr) * u.M_sun).value],\n",
        "    c='purple', s = 40\n",
        ")\n",
        "\n",
        "# plot the loss function\n",
        "axs[1].plot(loss_list2, label='loss 2', color='purple')\n",
        "\n",
        "# plot the optimization path\n",
        "xlist3 = jnp.array(xlist3)\n",
        "axs[0].plot((xlist3[:, 0] * code_units.code_velocity).to(u.km / u.s).value, (xlist3[:, 1] * code_units.code_mass / code_units.code_time).to(2.965e-3 / (1e6 * u.yr) * u.M_sun).value, color='red', label='optimization path 3')\n",
        "\n",
        "axs[0].scatter(\n",
        "    [(xlist3[0, 0] * code_units.code_velocity).to(u.km / u.s).value], [(xlist3[0, 1] * code_units.code_mass / code_units.code_time).to(2.965e-3 / (1e6 * u.yr) * u.M_sun).value],\n",
        "    c='red', s = 40\n",
        ")\n",
        "\n",
        "# plot the loss function\n",
        "axs[1].plot(loss_list3, label='loss 3', color='red')\n",
        "\n",
        "axs[1].set_xlabel('iterations')\n",
        "axs[1].set_ylabel('primitive state loss')\n",
        "axs[1].set_title('primitive state loss convergence')\n",
        "axs[1].set_yscale('log')\n",
        "axs[1].legend(loc='upper right')\n",
        "plt.tight_layout()\n",
        "\n",
        "# mark the true value as a red dot\n",
        "axs[0].scatter(\n",
        "    [wind_final_velocity.to(u.km / u.s).value],\n",
        "    [wind_mass_loss_rate.to(2.965e-3 / (1e6 * u.yr) * u.M_sun).value],\n",
        "    c='white', s = 200, label='true wind parameters', marker = \"*\", zorder = 10, edgecolors='black'\n",
        ")\n",
        "\n",
        "axs[0].legend()\n",
        "axs[1].legend()\n",
        "\n",
        "# axs 1 y lim 10^6 to 3 * 10^9\n",
        "if fast_instead_paper:\n",
        "    axs[1].set_ylim(1e5, 3e9)\n",
        "else:\n",
        "    axs[1].set_ylim(1e6, 3e9)"
      ]
    }
  ],
  "metadata": {
    "accelerator": "GPU",
    "colab": {
      "gpuType": "T4",
      "provenance": [],
      "include_colab_link": true
    },
    "kernelspec": {
      "display_name": "Python 3",
      "name": "python3"
    },
    "language_info": {
      "codemirror_mode": {
        "name": "ipython",
        "version": 3
      },
      "file_extension": ".py",
      "mimetype": "text/x-python",
      "name": "python",
      "nbconvert_exporter": "python",
      "pygments_lexer": "ipython3",
      "version": "3.12.5"
    }
  },
  "nbformat": 4,
  "nbformat_minor": 0
}