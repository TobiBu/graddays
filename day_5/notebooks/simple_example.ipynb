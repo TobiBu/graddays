{
  "cells": [
    {
      "cell_type": "markdown",
      "metadata": {
        "id": "view-in-github",
        "colab_type": "text"
      },
      "source": [
        "<a href=\"https://colab.research.google.com/github/TobiBu/graddays/blob/main/day_5/notebooks/simple_example.ipynb\" target=\"_parent\"><img src=\"https://colab.research.google.com/assets/colab-badge.svg\" alt=\"Open In Colab\"/></a>"
      ]
    },
    {
      "cell_type": "markdown",
      "metadata": {
        "id": "hFzpp_sr5uT9"
      },
      "source": [
        "# Simple Example of a Simulation in jf1uids"
      ]
    },
    {
      "cell_type": "markdown",
      "metadata": {
        "id": "43YZmvb45uT-"
      },
      "source": [
        "## Imports"
      ]
    },
    {
      "cell_type": "code",
      "execution_count": null,
      "metadata": {
        "colab": {
          "base_uri": "https://localhost:8080/"
        },
        "id": "atAkP-wV5uT_",
        "outputId": "e07a0866-8843-4216-87ae-daab1d5b5e30"
      },
      "outputs": [
        {
          "output_type": "stream",
          "name": "stdout",
          "text": [
            "Requirement already satisfied: jf1uids in /usr/local/lib/python3.10/dist-packages (0.1.3)\n",
            "Requirement already satisfied: astropy<7.0.0,>=6.0.0 in /usr/local/lib/python3.10/dist-packages (from jf1uids) (6.1.3)\n",
            "Requirement already satisfied: equinox<0.12.0,>=0.11.0 in /usr/local/lib/python3.10/dist-packages (from jf1uids) (0.11.6)\n",
            "Requirement already satisfied: jax<0.5.0,>=0.4.0 in /usr/local/lib/python3.10/dist-packages (from jf1uids) (0.4.26)\n",
            "Requirement already satisfied: numpy>=1.0.0 in /usr/local/lib/python3.10/dist-packages (from jf1uids) (1.26.4)\n",
            "Requirement already satisfied: optax<0.3.0,>=0.2.0 in /usr/local/lib/python3.10/dist-packages (from jf1uids) (0.2.2)\n",
            "Requirement already satisfied: scipy<2.0.0,>=1.0.0 in /usr/local/lib/python3.10/dist-packages (from jf1uids) (1.13.1)\n",
            "Requirement already satisfied: pyerfa>=2.0.1.1 in /usr/local/lib/python3.10/dist-packages (from astropy<7.0.0,>=6.0.0->jf1uids) (2.0.1.4)\n",
            "Requirement already satisfied: astropy-iers-data>=0.2024.7.29.0.32.7 in /usr/local/lib/python3.10/dist-packages (from astropy<7.0.0,>=6.0.0->jf1uids) (0.2024.9.12.13.29.57)\n",
            "Requirement already satisfied: PyYAML>=3.13 in /usr/local/lib/python3.10/dist-packages (from astropy<7.0.0,>=6.0.0->jf1uids) (6.0.2)\n",
            "Requirement already satisfied: packaging>=19.0 in /usr/local/lib/python3.10/dist-packages (from astropy<7.0.0,>=6.0.0->jf1uids) (24.1)\n",
            "Requirement already satisfied: jaxtyping>=0.2.20 in /usr/local/lib/python3.10/dist-packages (from equinox<0.12.0,>=0.11.0->jf1uids) (0.2.34)\n",
            "Requirement already satisfied: typing-extensions>=4.5.0 in /usr/local/lib/python3.10/dist-packages (from equinox<0.12.0,>=0.11.0->jf1uids) (4.12.2)\n",
            "Requirement already satisfied: ml-dtypes>=0.2.0 in /usr/local/lib/python3.10/dist-packages (from jax<0.5.0,>=0.4.0->jf1uids) (0.4.0)\n",
            "Requirement already satisfied: opt-einsum in /usr/local/lib/python3.10/dist-packages (from jax<0.5.0,>=0.4.0->jf1uids) (3.3.0)\n",
            "Requirement already satisfied: absl-py>=0.7.1 in /usr/local/lib/python3.10/dist-packages (from optax<0.3.0,>=0.2.0->jf1uids) (1.4.0)\n",
            "Requirement already satisfied: chex>=0.1.86 in /usr/local/lib/python3.10/dist-packages (from optax<0.3.0,>=0.2.0->jf1uids) (0.1.86)\n",
            "Requirement already satisfied: jaxlib>=0.1.37 in /usr/local/lib/python3.10/dist-packages (from optax<0.3.0,>=0.2.0->jf1uids) (0.4.26+cuda12.cudnn89)\n",
            "Requirement already satisfied: toolz>=0.9.0 in /usr/local/lib/python3.10/dist-packages (from chex>=0.1.86->optax<0.3.0,>=0.2.0->jf1uids) (0.12.1)\n",
            "Requirement already satisfied: typeguard==2.13.3 in /usr/local/lib/python3.10/dist-packages (from jaxtyping>=0.2.20->equinox<0.12.0,>=0.11.0->jf1uids) (2.13.3)\n"
          ]
        }
      ],
      "source": [
        "import jax.numpy as jnp\n",
        "\n",
        "!pip install jf1uids\n",
        "\n",
        "from jf1uids import SPHERICAL\n",
        "from jf1uids import SimulationConfig\n",
        "from jf1uids import SimulationParams\n",
        "from jf1uids import get_helper_data\n",
        "from jf1uids import primitive_state\n",
        "from jf1uids import time_integration\n",
        "\n",
        "import matplotlib.pyplot as plt\n",
        "\n",
        "# set device to CPU\n",
        "import jax\n",
        "jax.config.update(\"jax_platform_name\", \"cpu\")"
      ]
    },
    {
      "cell_type": "markdown",
      "metadata": {
        "id": "6JVfZ7bx5uUA"
      },
      "source": [
        "## Simulation Setup"
      ]
    },
    {
      "cell_type": "markdown",
      "metadata": {
        "id": "wz0VbhV_5uUA"
      },
      "source": [
        "Let us set up a very simple simulation, mostly with default parameters.\n",
        "\n",
        "First we get the configuration of the simulation, which contains parameters that typically do not change between simulations, changing which requires (just-in-time)-recompilation."
      ]
    },
    {
      "cell_type": "code",
      "execution_count": null,
      "metadata": {
        "id": "9SXDG5km5uUA"
      },
      "outputs": [],
      "source": [
        "config = SimulationConfig(\n",
        "    alpha_geom = SPHERICAL,\n",
        "    num_cells = 1001,\n",
        ")"
      ]
    },
    {
      "cell_type": "markdown",
      "metadata": {
        "id": "RXpoN9ov5uUB"
      },
      "source": [
        "Next we setup the simulation parameters, things we might vary"
      ]
    },
    {
      "cell_type": "code",
      "execution_count": null,
      "metadata": {
        "id": "OjKJzXu75uUB"
      },
      "outputs": [],
      "source": [
        "params = SimulationParams(\n",
        "    t_end = 0.2 # the typical value for a shock test\n",
        ")"
      ]
    },
    {
      "cell_type": "markdown",
      "metadata": {
        "id": "Z3Y7nhiB5uUB"
      },
      "source": [
        "With this we generate some helper data, like the cell centers etc."
      ]
    },
    {
      "cell_type": "code",
      "execution_count": null,
      "metadata": {
        "id": "oxdwpXms5uUB"
      },
      "outputs": [],
      "source": [
        "helper_data = get_helper_data(config)"
      ]
    },
    {
      "cell_type": "markdown",
      "metadata": {
        "id": "o1lET4gr5uUC"
      },
      "source": [
        "Next we setup the shock initial conditions, namely\n",
        "\\begin{equation}\n",
        "\\left(\\begin{array}{l}\n",
        "\\rho \\\\\n",
        "u \\\\\n",
        "p\n",
        "\\end{array}\\right)_L=\\left(\\begin{array}{l}\n",
        "1 \\\\\n",
        "0 \\\\\n",
        "1\n",
        "\\end{array}\\right), \\quad\\left(\\begin{array}{l}\n",
        "\\rho \\\\\n",
        "u \\\\\n",
        "p\n",
        "\\end{array}\\right)_R=\\left(\\begin{array}{c}\n",
        "0.125 \\\\\n",
        "0 \\\\\n",
        "0.1\n",
        "\\end{array}\\right)\n",
        "\\end{equation}\n",
        "with seperation at $x=0.5$."
      ]
    },
    {
      "cell_type": "code",
      "execution_count": null,
      "metadata": {
        "id": "UAMP6lV35uUC"
      },
      "outputs": [],
      "source": [
        "# setup the shock initial fluid state in terms of rho, u, p\n",
        "shock_pos = 0.5\n",
        "r = helper_data.geometric_centers\n",
        "rho = jnp.where(r < shock_pos, 1.0, 0.125)\n",
        "u = jnp.zeros_like(r)\n",
        "p = jnp.where(r < shock_pos, 1.0, 0.1)\n",
        "\n",
        "# get initial state\n",
        "initial_state = primitive_state(rho, u, p)"
      ]
    },
    {
      "cell_type": "markdown",
      "metadata": {
        "id": "C4-whAUr5uUC"
      },
      "source": [
        "## Running the simulation"
      ]
    },
    {
      "cell_type": "code",
      "execution_count": null,
      "metadata": {
        "id": "Ocilr2aB5uUC"
      },
      "outputs": [],
      "source": [
        "final_state = time_integration(initial_state, config, params, helper_data)\n",
        "rho_final, u_final, p_final = final_state"
      ]
    },
    {
      "cell_type": "markdown",
      "metadata": {
        "id": "mEkUXcZy5uUD"
      },
      "source": [
        "## Visualization"
      ]
    },
    {
      "cell_type": "code",
      "execution_count": null,
      "metadata": {
        "colab": {
          "base_uri": "https://localhost:8080/",
          "height": 485
        },
        "id": "MGY7Zl8w5uUD",
        "outputId": "a5e85bd1-4961-4fcd-88e0-9b28465d93f8"
      },
      "outputs": [
        {
          "output_type": "execute_result",
          "data": {
            "text/plain": [
              "<matplotlib.legend.Legend at 0x7d6888427af0>"
            ]
          },
          "metadata": {},
          "execution_count": 7
        },
        {
          "output_type": "display_data",
          "data": {
            "text/plain": [
              "<Figure size 1500x500 with 3 Axes>"
            ],
            "image/png": "[encoded data removed]"
          },
          "metadata": {}
        }
      ],
      "source": [
        "fig, axs = plt.subplots(1, 3, figsize=(15, 5))\n",
        "\n",
        "axs[0].plot(r, rho, label='initial')\n",
        "axs[0].plot(r, rho_final, label='final')\n",
        "axs[0].set_title('Density')\n",
        "axs[0].legend()\n",
        "\n",
        "axs[1].plot(r, u, label='initial')\n",
        "axs[1].plot(r, u_final, label='final')\n",
        "axs[1].set_title('Velocity')\n",
        "axs[1].legend()\n",
        "\n",
        "axs[2].plot(r, p, label='initial')\n",
        "axs[2].plot(r, p_final, label='final')\n",
        "axs[2].set_title('Pressure')\n",
        "axs[2].legend()"
      ]
    }
  ],
  "metadata": {
    "kernelspec": {
      "display_name": "jf1uids",
      "language": "python",
      "name": "python3"
    },
    "language_info": {
      "codemirror_mode": {
        "name": "ipython",
        "version": 3
      },
      "file_extension": ".py",
      "mimetype": "text/x-python",
      "name": "python",
      "nbconvert_exporter": "python",
      "pygments_lexer": "ipython3",
      "version": "3.11.9"
    },
    "colab": {
      "provenance": [],
      "include_colab_link": true
    }
  },
  "nbformat": 4,
  "nbformat_minor": 0
}