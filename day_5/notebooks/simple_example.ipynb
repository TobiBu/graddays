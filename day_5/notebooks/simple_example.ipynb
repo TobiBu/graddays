{
  "cells": [
    {
      "cell_type": "markdown",
      "metadata": {
        "id": "view-in-github",
        "colab_type": "text"
      },
      "source": [
        "<a href=\"https://colab.research.google.com/github/TobiBu/graddays/blob/main/day_5/notebooks/simple_example.ipynb\" target=\"_parent\"><img src=\"https://colab.research.google.com/assets/colab-badge.svg\" alt=\"Open In Colab\"/></a>"
      ]
    },
    {
      "cell_type": "markdown",
      "metadata": {
        "id": "OFAIFZtjN-2I"
      },
      "source": [
        "# Simple Example of a Simulation in jf1uids"
      ]
    },
    {
      "cell_type": "markdown",
      "metadata": {
        "id": "oz36_Ad0N-2K"
      },
      "source": [
        "## Imports"
      ]
    },
    {
      "cell_type": "code",
      "execution_count": null,
      "metadata": {
        "colab": {
          "base_uri": "https://localhost:8080/"
        },
        "id": "GVdJwCB5N-2K",
        "outputId": "fe3e84df-9d82-47a1-c504-499ec0d86c8d"
      },
      "outputs": [
        {
          "output_type": "stream",
          "name": "stdout",
          "text": [
            "Collecting jf1uids\n",
            "  Downloading jf1uids-0.1.6-py3-none-any.whl.metadata (2.9 kB)\n",
            "Requirement already satisfied: astropy<7.0.0,>=6.0.0 in /usr/local/lib/python3.10/dist-packages (from jf1uids) (6.1.4)\n",
            "Collecting equinox<0.12.0,>=0.11.0 (from jf1uids)\n",
            "  Downloading equinox-0.11.7-py3-none-any.whl.metadata (18 kB)\n",
            "Requirement already satisfied: jax<0.5.0,>=0.4.0 in /usr/local/lib/python3.10/dist-packages (from jf1uids) (0.4.33)\n",
            "Requirement already satisfied: numpy>=1.0.0 in /usr/local/lib/python3.10/dist-packages (from jf1uids) (1.26.4)\n",
            "Requirement already satisfied: optax<0.3.0,>=0.2.0 in /usr/local/lib/python3.10/dist-packages (from jf1uids) (0.2.3)\n",
            "Requirement already satisfied: scipy<2.0.0,>=1.0.0 in /usr/local/lib/python3.10/dist-packages (from jf1uids) (1.13.1)\n",
            "Requirement already satisfied: pyerfa>=2.0.1.1 in /usr/local/lib/python3.10/dist-packages (from astropy<7.0.0,>=6.0.0->jf1uids) (2.0.1.4)\n",
            "Requirement already satisfied: astropy-iers-data>=0.2024.8.27.10.28.29 in /usr/local/lib/python3.10/dist-packages (from astropy<7.0.0,>=6.0.0->jf1uids) (0.2024.10.7.0.32.46)\n",
            "Requirement already satisfied: PyYAML>=3.13 in /usr/local/lib/python3.10/dist-packages (from astropy<7.0.0,>=6.0.0->jf1uids) (6.0.2)\n",
            "Requirement already satisfied: packaging>=19.0 in /usr/local/lib/python3.10/dist-packages (from astropy<7.0.0,>=6.0.0->jf1uids) (24.1)\n",
            "Collecting jaxtyping>=0.2.20 (from equinox<0.12.0,>=0.11.0->jf1uids)\n",
            "  Downloading jaxtyping-0.2.34-py3-none-any.whl.metadata (6.4 kB)\n",
            "Requirement already satisfied: typing-extensions>=4.5.0 in /usr/local/lib/python3.10/dist-packages (from equinox<0.12.0,>=0.11.0->jf1uids) (4.12.2)\n",
            "Requirement already satisfied: jaxlib<=0.4.33,>=0.4.33 in /usr/local/lib/python3.10/dist-packages (from jax<0.5.0,>=0.4.0->jf1uids) (0.4.33)\n",
            "Requirement already satisfied: ml-dtypes>=0.2.0 in /usr/local/lib/python3.10/dist-packages (from jax<0.5.0,>=0.4.0->jf1uids) (0.4.1)\n",
            "Requirement already satisfied: opt-einsum in /usr/local/lib/python3.10/dist-packages (from jax<0.5.0,>=0.4.0->jf1uids) (3.4.0)\n",
            "Requirement already satisfied: absl-py>=0.7.1 in /usr/local/lib/python3.10/dist-packages (from optax<0.3.0,>=0.2.0->jf1uids) (1.4.0)\n",
            "Requirement already satisfied: chex>=0.1.86 in /usr/local/lib/python3.10/dist-packages (from optax<0.3.0,>=0.2.0->jf1uids) (0.1.87)\n",
            "Requirement already satisfied: etils[epy] in /usr/local/lib/python3.10/dist-packages (from optax<0.3.0,>=0.2.0->jf1uids) (1.9.4)\n",
            "Requirement already satisfied: toolz>=0.9.0 in /usr/local/lib/python3.10/dist-packages (from chex>=0.1.86->optax<0.3.0,>=0.2.0->jf1uids) (0.12.1)\n",
            "Collecting typeguard==2.13.3 (from jaxtyping>=0.2.20->equinox<0.12.0,>=0.11.0->jf1uids)\n",
            "  Downloading typeguard-2.13.3-py3-none-any.whl.metadata (3.6 kB)\n",
            "Downloading jf1uids-0.1.6-py3-none-any.whl (20 kB)\n",
            "Downloading equinox-0.11.7-py3-none-any.whl (178 kB)\n",
            "\u001b[2K   \u001b[90m━━━━━━━━━━━━━━━━━━━━━━━━━━━━━━━━━━━━━━━━\u001b[0m \u001b[32m178.4/178.4 kB\u001b[0m \u001b[31m8.7 MB/s\u001b[0m eta \u001b[36m0:00:00\u001b[0m\n",
            "\u001b[?25hDownloading jaxtyping-0.2.34-py3-none-any.whl (42 kB)\n",
            "\u001b[2K   \u001b[90m━━━━━━━━━━━━━━━━━━━━━━━━━━━━━━━━━━━━━━━━\u001b[0m \u001b[32m42.4/42.4 kB\u001b[0m \u001b[31m2.3 MB/s\u001b[0m eta \u001b[36m0:00:00\u001b[0m\n",
            "\u001b[?25hDownloading typeguard-2.13.3-py3-none-any.whl (17 kB)\n",
            "Installing collected packages: typeguard, jaxtyping, equinox, jf1uids\n",
            "  Attempting uninstall: typeguard\n",
            "    Found existing installation: typeguard 4.3.0\n",
            "    Uninstalling typeguard-4.3.0:\n",
            "      Successfully uninstalled typeguard-4.3.0\n",
            "\u001b[31mERROR: pip's dependency resolver does not currently take into account all the packages that are installed. This behaviour is the source of the following dependency conflicts.\n",
            "inflect 7.4.0 requires typeguard>=4.0.1, but you have typeguard 2.13.3 which is incompatible.\u001b[0m\u001b[31m\n",
            "\u001b[0mSuccessfully installed equinox-0.11.7 jaxtyping-0.2.34 jf1uids-0.1.6 typeguard-2.13.3\n"
          ]
        }
      ],
      "source": [
        "import jax.numpy as jnp\n",
        "\n",
        "!pip install jf1uids\n",
        "from jf1uids import SPHERICAL\n",
        "from jf1uids import SimulationConfig\n",
        "from jf1uids import SimulationParams\n",
        "from jf1uids import get_helper_data\n",
        "from jf1uids import primitive_state\n",
        "from jf1uids import time_integration\n",
        "\n",
        "import matplotlib.pyplot as plt\n",
        "\n",
        "# set device to CPU\n",
        "import jax\n",
        "jax.config.update(\"jax_platform_name\", \"cpu\")"
      ]
    },
    {
      "cell_type": "markdown",
      "metadata": {
        "id": "ks6dyMYPN-2L"
      },
      "source": [
        "## Simulation Setup"
      ]
    },
    {
      "cell_type": "markdown",
      "metadata": {
        "id": "g11BEWwuN-2L"
      },
      "source": [
        "Let us set up a very simple simulation, mostly with default parameters.\n",
        "\n",
        "First we get the configuration of the simulation, which contains parameters that typically do not change between simulations, changing which requires (just-in-time)-recompilation."
      ]
    },
    {
      "cell_type": "code",
      "execution_count": null,
      "metadata": {
        "id": "cjmqfp7HN-2L"
      },
      "outputs": [],
      "source": [
        "config = SimulationConfig(\n",
        "    geometry = SPHERICAL,\n",
        "    num_cells = 1001,\n",
        ")"
      ]
    },
    {
      "cell_type": "markdown",
      "metadata": {
        "id": "TmozULLqN-2M"
      },
      "source": [
        "Next we setup the simulation parameters, things we might vary"
      ]
    },
    {
      "cell_type": "code",
      "execution_count": null,
      "metadata": {
        "id": "EBo_CbrlN-2M"
      },
      "outputs": [],
      "source": [
        "params = SimulationParams(\n",
        "    t_end = 0.2 # the typical value for a shock test\n",
        ")"
      ]
    },
    {
      "cell_type": "markdown",
      "metadata": {
        "id": "5B7M3DAEN-2M"
      },
      "source": [
        "With this we generate some helper data, like the cell centers etc."
      ]
    },
    {
      "cell_type": "code",
      "execution_count": null,
      "metadata": {
        "id": "dA6sNrRTN-2M"
      },
      "outputs": [],
      "source": [
        "helper_data = get_helper_data(config)"
      ]
    },
    {
      "cell_type": "markdown",
      "metadata": {
        "id": "LdRHreoBN-2N"
      },
      "source": [
        "Next we setup the shock initial conditions, namely\n",
        "\\begin{equation}\n",
        "\\left(\\begin{array}{l}\n",
        "\\rho \\\\\n",
        "u \\\\\n",
        "p\n",
        "\\end{array}\\right)_L=\\left(\\begin{array}{l}\n",
        "1 \\\\\n",
        "0 \\\\\n",
        "1\n",
        "\\end{array}\\right), \\quad\\left(\\begin{array}{l}\n",
        "\\rho \\\\\n",
        "u \\\\\n",
        "p\n",
        "\\end{array}\\right)_R=\\left(\\begin{array}{c}\n",
        "0.125 \\\\\n",
        "0 \\\\\n",
        "0.1\n",
        "\\end{array}\\right)\n",
        "\\end{equation}\n",
        "with seperation at $x=0.5$."
      ]
    },
    {
      "cell_type": "code",
      "execution_count": null,
      "metadata": {
        "id": "Kakbxdn1N-2N"
      },
      "outputs": [],
      "source": [
        "# setup the shock initial fluid state in terms of rho, u, p\n",
        "shock_pos = 0.5\n",
        "r = helper_data.geometric_centers\n",
        "rho = jnp.where(r < shock_pos, 1.0, 0.125)\n",
        "u = jnp.zeros_like(r)\n",
        "p = jnp.where(r < shock_pos, 1.0, 0.1)\n",
        "\n",
        "# get initial state\n",
        "initial_state = primitive_state(rho, u, p)"
      ]
    },
    {
      "cell_type": "markdown",
      "metadata": {
        "id": "4XuGDKPXN-2N"
      },
      "source": [
        "## Running the simulation"
      ]
    },
    {
      "cell_type": "code",
      "execution_count": null,
      "metadata": {
        "id": "a6SQQinjN-2O"
      },
      "outputs": [],
      "source": [
        "final_state = time_integration(initial_state, config, params, helper_data)\n",
        "rho_final, u_final, p_final = final_state"
      ]
    },
    {
      "cell_type": "markdown",
      "metadata": {
        "id": "uWKxppJKN-2O"
      },
      "source": [
        "## Visualization"
      ]
    },
    {
      "cell_type": "code",
      "execution_count": null,
      "metadata": {
        "colab": {
          "base_uri": "https://localhost:8080/",
          "height": 485
        },
        "id": "6PU5crY_N-2O",
        "outputId": "cc606ba1-9579-4cbd-ce19-995c4faf8821"
      },
      "outputs": [
        {
          "output_type": "execute_result",
          "data": {
            "text/plain": [
              "<matplotlib.legend.Legend at 0x7d37e9435a50>"
            ]
          },
          "metadata": {},
          "execution_count": 7
        },
        {
          "output_type": "display_data",
          "data": {
            "text/plain": [
              "<Figure size 1500x500 with 3 Axes>"
            ],
            "image/png": "[encoded data removed]"
          },
          "metadata": {}
        }
      ],
      "source": [
        "fig, axs = plt.subplots(1, 3, figsize=(15, 5))\n",
        "\n",
        "axs[0].plot(r, rho, label='initial')\n",
        "axs[0].plot(r, rho_final, label='final')\n",
        "axs[0].set_title('Density')\n",
        "axs[0].legend()\n",
        "\n",
        "axs[1].plot(r, u, label='initial')\n",
        "axs[1].plot(r, u_final, label='final')\n",
        "axs[1].set_title('Velocity')\n",
        "axs[1].legend()\n",
        "\n",
        "axs[2].plot(r, p, label='initial')\n",
        "axs[2].plot(r, p_final, label='final')\n",
        "axs[2].set_title('Pressure')\n",
        "axs[2].legend()"
      ]
    }
  ],
  "metadata": {
    "kernelspec": {
      "display_name": "jf1uids",
      "language": "python",
      "name": "python3"
    },
    "language_info": {
      "codemirror_mode": {
        "name": "ipython",
        "version": 3
      },
      "file_extension": ".py",
      "mimetype": "text/x-python",
      "name": "python",
      "nbconvert_exporter": "python",
      "pygments_lexer": "ipython3",
      "version": "3.12.5"
    },
    "colab": {
      "provenance": [],
      "include_colab_link": true
    }
  },
  "nbformat": 4,
  "nbformat_minor": 0
}